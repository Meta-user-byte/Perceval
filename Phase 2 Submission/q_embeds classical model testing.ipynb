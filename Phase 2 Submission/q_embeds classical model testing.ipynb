{
 "cells": [
  {
   "cell_type": "code",
   "execution_count": 129,
   "metadata": {},
   "outputs": [],
   "source": [
    "import os\n",
    "import numpy as np\n",
    "import torch\n",
    "import torch.nn as nn\n",
    "import torch.nn.functional as F\n",
    "import torch.optim as optim\n",
    "import torch.utils.data as data\n",
    "import torchvision\n",
    "import torchvision.transforms as transforms\n",
    "from torch.utils.data import DataLoader, Dataset, Subset, TensorDataset\n",
    "import matplotlib.pyplot as plt"
   ]
  },
  {
   "cell_type": "markdown",
   "metadata": {},
   "source": [
    "### Embeddings loading and shapes"
   ]
  },
  {
   "cell_type": "code",
   "execution_count": 130,
   "metadata": {},
   "outputs": [],
   "source": [
    "type1_images = np.load(\"/Users/soardr/Desktop/Perceval/Photonic Kernel/percv_emb_conv_type_1_train_images_cont__final_concat.npy\").astype(np.float32)\n",
    "type1_labels = np.load(\"/Users/soardr/Desktop/Perceval/Photonic Kernel/percv_emb_conv_type_1_train_labels_cont__final_concat__2.npy\").astype(np.float32)"
   ]
  },
  {
   "cell_type": "code",
   "execution_count": 131,
   "metadata": {},
   "outputs": [],
   "source": [
    "type2_images = np.load(\"/Users/soardr/Desktop/Perceval/Photonic Kernel/percv_emb_conv_type_2__PS_BS_perm___train_images__final_concat.npy\").astype(np.float32)\n",
    "type2_labels = np.load(\"/Users/soardr/Desktop/Perceval/Photonic Kernel/percv_emb_conv_type_2__PS_BS_perm___train_labels__final_concat__2.npy\").astype(np.float32)"
   ]
  },
  {
   "cell_type": "code",
   "execution_count": 132,
   "metadata": {},
   "outputs": [
    {
     "data": {
      "text/plain": [
       "((42, 14, 14, 20), (42,))"
      ]
     },
     "execution_count": 132,
     "metadata": {},
     "output_type": "execute_result"
    }
   ],
   "source": [
    "type1_images.shape, type1_labels.shape"
   ]
  },
  {
   "cell_type": "code",
   "execution_count": 133,
   "metadata": {},
   "outputs": [
    {
     "data": {
      "text/plain": [
       "((53, 14, 14, 20), (53,))"
      ]
     },
     "execution_count": 133,
     "metadata": {},
     "output_type": "execute_result"
    }
   ],
   "source": [
    "type2_images.shape, type2_labels.shape"
   ]
  },
  {
   "cell_type": "markdown",
   "metadata": {},
   "source": [
    "### Dataset creation"
   ]
  },
  {
   "cell_type": "code",
   "execution_count": 134,
   "metadata": {},
   "outputs": [],
   "source": [
    "# Create a custom dataset\n",
    "class QuantumMNISTDataset(data.Dataset):\n",
    "    def __init__(self, images, labels):\n",
    "        self.images = images\n",
    "        self.labels = labels\n",
    "\n",
    "    def __len__(self):\n",
    "        return len(self.images)\n",
    "\n",
    "    def __getitem__(self, idx):\n",
    "        return self.images[idx], self.labels[idx]"
   ]
  },
  {
   "cell_type": "code",
   "execution_count": 135,
   "metadata": {},
   "outputs": [],
   "source": [
    "type1_images = torch.tensor(type1_images).permute(0, 3, 1, 2)\n",
    "type2_images = torch.tensor(type2_images).permute(0, 3, 1, 2)"
   ]
  },
  {
   "cell_type": "code",
   "execution_count": 163,
   "metadata": {},
   "outputs": [
    {
     "data": {
      "text/plain": [
       "(torch.Size([42, 20, 14, 14]), torch.Size([53, 20, 14, 14]))"
      ]
     },
     "execution_count": 163,
     "metadata": {},
     "output_type": "execute_result"
    }
   ],
   "source": [
    "type1_images.shape, type2_images.shape"
   ]
  },
  {
   "cell_type": "markdown",
   "metadata": {},
   "source": [
    "### Extending the dataset"
   ]
  },
  {
   "cell_type": "code",
   "execution_count": 138,
   "metadata": {},
   "outputs": [
    {
     "name": "stderr",
     "output_type": "stream",
     "text": [
      "/var/folders/3x/956gglvx6tbcvyg7m0dghx8r0000gq/T/ipykernel_20887/4138532008.py:5: UserWarning: To copy construct from a tensor, it is recommended to use sourceTensor.clone().detach() or sourceTensor.clone().detach().requires_grad_(True), rather than torch.tensor(sourceTensor).\n",
      "  expanded_images_type1 = torch.tensor(expanded_images_type1, dtype=torch.float32)\n"
     ]
    }
   ],
   "source": [
    "expanded_images_type1 = type1_images.reshape(-1, 1, 14, 14)  # (10 × 20, 14, 14, 1)\n",
    "expanded_labels_type1 = np.repeat(type1_labels, 20)  # Repeat each label 20 times\n",
    "\n",
    "# expanded_images_type1 = torch.tensor(expanded_images_type1, dtype=torch.float32).permute(0, 3, 1, 2)  # (200, 1, 14, 14)\n",
    "expanded_images_type1 = torch.tensor(expanded_images_type1, dtype=torch.float32)\n",
    "expanded_labels_type1 = torch.tensor(expanded_labels_type1, dtype=torch.long)"
   ]
  },
  {
   "cell_type": "code",
   "execution_count": 139,
   "metadata": {},
   "outputs": [
    {
     "name": "stderr",
     "output_type": "stream",
     "text": [
      "/var/folders/3x/956gglvx6tbcvyg7m0dghx8r0000gq/T/ipykernel_20887/517956138.py:5: UserWarning: To copy construct from a tensor, it is recommended to use sourceTensor.clone().detach() or sourceTensor.clone().detach().requires_grad_(True), rather than torch.tensor(sourceTensor).\n",
      "  expanded_images_type2 = torch.tensor(expanded_images_type2, dtype=torch.float32)\n"
     ]
    }
   ],
   "source": [
    "expanded_images_type2 = type2_images.reshape(-1, 1, 14, 14)  # (10 × 20, 14, 14, 1)\n",
    "expanded_labels_type2 = np.repeat(type2_labels, 20)  # Repeat each label 20 times\n",
    "\n",
    "# expanded_images_type2 = torch.tensor(expanded_images_type2, dtype=torch.float32).permute(0, 3, 1, 2)  # (200, 1, 14, 14)\n",
    "expanded_images_type2 = torch.tensor(expanded_images_type2, dtype=torch.float32)\n",
    "expanded_labels_type2 = torch.tensor(expanded_labels_type2, dtype=torch.long)"
   ]
  },
  {
   "cell_type": "markdown",
   "metadata": {},
   "source": [
    "### Extending the dataset: 4 channels"
   ]
  },
  {
   "cell_type": "code",
   "execution_count": 164,
   "metadata": {},
   "outputs": [
    {
     "name": "stderr",
     "output_type": "stream",
     "text": [
      "/var/folders/3x/956gglvx6tbcvyg7m0dghx8r0000gq/T/ipykernel_20887/3332599209.py:5: UserWarning: To copy construct from a tensor, it is recommended to use sourceTensor.clone().detach() or sourceTensor.clone().detach().requires_grad_(True), rather than torch.tensor(sourceTensor).\n",
      "  expanded_images_type1_4 = torch.tensor(expanded_images_type1_4, dtype=torch.float32)\n"
     ]
    }
   ],
   "source": [
    "expanded_images_type1_4 = type1_images.reshape(42 * 5, 4, 14, 14)  # (10 × 20, 14, 14, 1)\n",
    "expanded_labels_type1_4 = np.repeat(type1_labels, 5)  # Repeat each label 20 times\n",
    "\n",
    "# expanded_images_type1 = torch.tensor(expanded_images_type1, dtype=torch.float32).permute(0, 3, 1, 2)  # (200, 1, 14, 14)\n",
    "expanded_images_type1_4 = torch.tensor(expanded_images_type1_4, dtype=torch.float32)\n",
    "expanded_labels_type1_4 = torch.tensor(expanded_labels_type1_4, dtype=torch.long)"
   ]
  },
  {
   "cell_type": "code",
   "execution_count": 165,
   "metadata": {},
   "outputs": [
    {
     "name": "stderr",
     "output_type": "stream",
     "text": [
      "/var/folders/3x/956gglvx6tbcvyg7m0dghx8r0000gq/T/ipykernel_20887/2117010142.py:5: UserWarning: To copy construct from a tensor, it is recommended to use sourceTensor.clone().detach() or sourceTensor.clone().detach().requires_grad_(True), rather than torch.tensor(sourceTensor).\n",
      "  expanded_images_type2_4 = torch.tensor(expanded_images_type2_4, dtype=torch.float32)\n"
     ]
    }
   ],
   "source": [
    "expanded_images_type2_4 = type2_images.reshape(53 * 5, 4, 14, 14)  # (10 × 20, 14, 14, 1)\n",
    "expanded_labels_type2_4 = np.repeat(type2_labels, 5)  # Repeat each label 20 times\n",
    "\n",
    "# expanded_images_type2 = torch.tensor(expanded_images_type2, dtype=torch.float32).permute(0, 3, 1, 2)  # (200, 1, 14, 14)\n",
    "expanded_images_type2_4 = torch.tensor(expanded_images_type2_4, dtype=torch.float32)\n",
    "expanded_labels_type2_4 = torch.tensor(expanded_labels_type2_4, dtype=torch.long)"
   ]
  },
  {
   "cell_type": "markdown",
   "metadata": {},
   "source": [
    "### Extending the dataset: 4 channels"
   ]
  },
  {
   "cell_type": "code",
   "execution_count": 190,
   "metadata": {},
   "outputs": [
    {
     "name": "stderr",
     "output_type": "stream",
     "text": [
      "/var/folders/3x/956gglvx6tbcvyg7m0dghx8r0000gq/T/ipykernel_20887/1215108961.py:5: UserWarning: To copy construct from a tensor, it is recommended to use sourceTensor.clone().detach() or sourceTensor.clone().detach().requires_grad_(True), rather than torch.tensor(sourceTensor).\n",
      "  expanded_images_type1_5 = torch.tensor(expanded_images_type1_5, dtype=torch.float32)\n"
     ]
    }
   ],
   "source": [
    "expanded_images_type1_5 = type1_images.reshape(42 * 4, 5, 14, 14)  # (10 × 20, 14, 14, 1)\n",
    "expanded_labels_type1_5 = np.repeat(type1_labels, 4)  # Repeat each label 20 times\n",
    "\n",
    "# expanded_images_type1 = torch.tensor(expanded_images_type1, dtype=torch.float32).permute(0, 3, 1, 2)  # (200, 1, 14, 14)\n",
    "expanded_images_type1_5 = torch.tensor(expanded_images_type1_5, dtype=torch.float32)\n",
    "expanded_labels_type1_5 = torch.tensor(expanded_labels_type1_5, dtype=torch.long)"
   ]
  },
  {
   "cell_type": "code",
   "execution_count": 191,
   "metadata": {},
   "outputs": [
    {
     "name": "stderr",
     "output_type": "stream",
     "text": [
      "/var/folders/3x/956gglvx6tbcvyg7m0dghx8r0000gq/T/ipykernel_20887/3289502167.py:5: UserWarning: To copy construct from a tensor, it is recommended to use sourceTensor.clone().detach() or sourceTensor.clone().detach().requires_grad_(True), rather than torch.tensor(sourceTensor).\n",
      "  expanded_images_type2_5 = torch.tensor(expanded_images_type2_5, dtype=torch.float32)\n"
     ]
    }
   ],
   "source": [
    "expanded_images_type2_5 = type2_images.reshape(53 * 4, 5, 14, 14)  # (10 × 20, 14, 14, 1)\n",
    "expanded_labels_type2_5 = np.repeat(type2_labels, 4)  # Repeat each label 20 times\n",
    "\n",
    "# expanded_images_type2 = torch.tensor(expanded_images_type2, dtype=torch.float32).permute(0, 3, 1, 2)  # (200, 1, 14, 14)\n",
    "expanded_images_type2_5 = torch.tensor(expanded_images_type2_5, dtype=torch.float32)\n",
    "expanded_labels_type2_5 = torch.tensor(expanded_labels_type2_5, dtype=torch.long)"
   ]
  },
  {
   "cell_type": "markdown",
   "metadata": {},
   "source": [
    "### Datasets and loaders"
   ]
  },
  {
   "cell_type": "code",
   "execution_count": 140,
   "metadata": {},
   "outputs": [],
   "source": [
    "dataset_type1 = QuantumMNISTDataset(type1_images, type1_labels)\n",
    "dataloader_type1 = data.DataLoader(dataset_type1, batch_size=8, shuffle=True)\n",
    "\n",
    "dataset_type1_extended = QuantumMNISTDataset(expanded_images_type1, expanded_labels_type1)\n",
    "dataloader_type1_extended = data.DataLoader(dataset_type1_extended, batch_size=16, shuffle=True)"
   ]
  },
  {
   "cell_type": "code",
   "execution_count": 141,
   "metadata": {},
   "outputs": [],
   "source": [
    "dataset_type2 = QuantumMNISTDataset(type2_images, type2_labels)\n",
    "dataloader_type2 = data.DataLoader(dataset_type2, batch_size=8, shuffle=True)\n",
    "\n",
    "dataset_type2_extended = QuantumMNISTDataset(expanded_images_type2, expanded_labels_type2)\n",
    "dataloader_type2_extended = data.DataLoader(dataset_type2_extended, batch_size=16, shuffle=True)"
   ]
  },
  {
   "cell_type": "code",
   "execution_count": null,
   "metadata": {},
   "outputs": [],
   "source": [
    "dataset_type1_extended__4 = QuantumMNISTDataset(expanded_images_type1_4, expanded_labels_type1)\n",
    "dataloader_type1_extended__4 = data.DataLoader(dataset_type1_extended__4, batch_size=16, shuffle=True)\n",
    "\n",
    "dataset_type2_extended__4 = QuantumMNISTDataset(expanded_images_type2_4, expanded_labels_type2)\n",
    "dataloader_type2_extended__4 = data.DataLoader(dataset_type2_extended__4, batch_size=16, shuffle=True)"
   ]
  },
  {
   "cell_type": "code",
   "execution_count": 192,
   "metadata": {},
   "outputs": [],
   "source": [
    "dataset_type1_extended__5 = QuantumMNISTDataset(expanded_images_type1_5, expanded_labels_type1)\n",
    "dataloader_type1_extended__5 = data.DataLoader(dataset_type1_extended__5, batch_size=16, shuffle=True)\n",
    "\n",
    "dataset_type2_extended__5 = QuantumMNISTDataset(expanded_images_type2_5, expanded_labels_type2)\n",
    "dataloader_type2_extended__5 = data.DataLoader(dataset_type2_extended__5, batch_size=16, shuffle=True)"
   ]
  },
  {
   "cell_type": "markdown",
   "metadata": {},
   "source": [
    "### Models"
   ]
  },
  {
   "cell_type": "code",
   "execution_count": 149,
   "metadata": {},
   "outputs": [],
   "source": [
    "class QuantumMNISTClassifier(nn.Module):\n",
    "    def __init__(self):\n",
    "        super(QuantumMNISTClassifier, self).__init__()\n",
    "        self.conv1 = nn.Conv2d(20, 32, kernel_size=3, padding=1)  # (20 channels → 32 filters)\n",
    "        self.conv2 = nn.Conv2d(32, 64, kernel_size=3, padding=1)\n",
    "        self.fc1 = nn.Linear(64 * 14 * 14, 128)\n",
    "        self.fc2 = nn.Linear(128, 10)  # 10 output classes\n",
    "\n",
    "    def forward(self, x):\n",
    "        x = torch.relu(self.conv1(x))\n",
    "        x = torch.relu(self.conv2(x))\n",
    "        x = x.view(x.size(0), -1)  # Flatten\n",
    "        x = torch.relu(self.fc1(x))\n",
    "        x = self.fc2(x)\n",
    "        return x"
   ]
  },
  {
   "cell_type": "code",
   "execution_count": 184,
   "metadata": {},
   "outputs": [],
   "source": [
    "class QuantumMNISTClassifierV2(nn.Module):\n",
    "    def __init__(self):\n",
    "        super(QuantumMNISTClassifierV2, self).__init__()\n",
    "        self.conv1 = nn.Conv2d(4, 16, kernel_size=3, padding=1)  # (1 → 16 filters)\n",
    "        self.conv2 = nn.Conv2d(16, 32, kernel_size=3, padding=1)  # (16 → 32 filters)\n",
    "        self.pool = nn.MaxPool2d(2, 2)  # Downsamples to (7x7)\n",
    "        self.fc1 = nn.Linear(32 * 7 * 7, 64)  # Fully connected layer\n",
    "        self.fc2 = nn.Linear(64, 10)  # Output layer (10 classes)\n",
    "\n",
    "    def forward(self, x):\n",
    "        x = torch.relu(self.conv1(x))\n",
    "        x = self.pool(torch.relu(self.conv2(x)))\n",
    "        x = x.view(x.size(0), -1)  # Flatten\n",
    "        x = torch.relu(self.fc1(x))\n",
    "        x = self.fc2(x)\n",
    "        return x"
   ]
  },
  {
   "cell_type": "code",
   "execution_count": 185,
   "metadata": {},
   "outputs": [],
   "source": [
    "model_20 = QuantumMNISTClassifier()\n",
    "model_1 = QuantumMNISTClassifierV2()"
   ]
  },
  {
   "cell_type": "markdown",
   "metadata": {},
   "source": [
    "### Optimizers and Training"
   ]
  },
  {
   "cell_type": "code",
   "execution_count": 152,
   "metadata": {},
   "outputs": [],
   "source": [
    "criterion = nn.CrossEntropyLoss()\n",
    "optimizer = optim.Adam(model_20.parameters(), lr=0.001)\n",
    "\n",
    "# Training loop\n",
    "num_epochs = 100"
   ]
  },
  {
   "cell_type": "code",
   "execution_count": 153,
   "metadata": {},
   "outputs": [
    {
     "ename": "RuntimeError",
     "evalue": "expected scalar type Long but found Float",
     "output_type": "error",
     "traceback": [
      "\u001b[31m---------------------------------------------------------------------------\u001b[39m",
      "\u001b[31mRuntimeError\u001b[39m                              Traceback (most recent call last)",
      "\u001b[36mCell\u001b[39m\u001b[36m \u001b[39m\u001b[32mIn[153]\u001b[39m\u001b[32m, line 10\u001b[39m\n\u001b[32m      6\u001b[39m outputs = model_20(images)\n\u001b[32m      8\u001b[39m \u001b[38;5;66;03m# print(\"outputs, labels:\", outputs.shape, labels)\u001b[39;00m\n\u001b[32m---> \u001b[39m\u001b[32m10\u001b[39m loss = \u001b[43mcriterion\u001b[49m\u001b[43m(\u001b[49m\u001b[43moutputs\u001b[49m\u001b[43m,\u001b[49m\u001b[43m \u001b[49m\u001b[43mlabels\u001b[49m\u001b[43m)\u001b[49m\n\u001b[32m     11\u001b[39m loss.backward()\n\u001b[32m     12\u001b[39m optimizer.step()\n",
      "\u001b[36mFile \u001b[39m\u001b[32m~/Desktop/Perceval/.venv/lib/python3.11/site-packages/torch/nn/modules/module.py:1739\u001b[39m, in \u001b[36mModule._wrapped_call_impl\u001b[39m\u001b[34m(self, *args, **kwargs)\u001b[39m\n\u001b[32m   1737\u001b[39m     \u001b[38;5;28;01mreturn\u001b[39;00m \u001b[38;5;28mself\u001b[39m._compiled_call_impl(*args, **kwargs)  \u001b[38;5;66;03m# type: ignore[misc]\u001b[39;00m\n\u001b[32m   1738\u001b[39m \u001b[38;5;28;01melse\u001b[39;00m:\n\u001b[32m-> \u001b[39m\u001b[32m1739\u001b[39m     \u001b[38;5;28;01mreturn\u001b[39;00m \u001b[38;5;28;43mself\u001b[39;49m\u001b[43m.\u001b[49m\u001b[43m_call_impl\u001b[49m\u001b[43m(\u001b[49m\u001b[43m*\u001b[49m\u001b[43margs\u001b[49m\u001b[43m,\u001b[49m\u001b[43m \u001b[49m\u001b[43m*\u001b[49m\u001b[43m*\u001b[49m\u001b[43mkwargs\u001b[49m\u001b[43m)\u001b[49m\n",
      "\u001b[36mFile \u001b[39m\u001b[32m~/Desktop/Perceval/.venv/lib/python3.11/site-packages/torch/nn/modules/module.py:1750\u001b[39m, in \u001b[36mModule._call_impl\u001b[39m\u001b[34m(self, *args, **kwargs)\u001b[39m\n\u001b[32m   1745\u001b[39m \u001b[38;5;66;03m# If we don't have any hooks, we want to skip the rest of the logic in\u001b[39;00m\n\u001b[32m   1746\u001b[39m \u001b[38;5;66;03m# this function, and just call forward.\u001b[39;00m\n\u001b[32m   1747\u001b[39m \u001b[38;5;28;01mif\u001b[39;00m \u001b[38;5;129;01mnot\u001b[39;00m (\u001b[38;5;28mself\u001b[39m._backward_hooks \u001b[38;5;129;01mor\u001b[39;00m \u001b[38;5;28mself\u001b[39m._backward_pre_hooks \u001b[38;5;129;01mor\u001b[39;00m \u001b[38;5;28mself\u001b[39m._forward_hooks \u001b[38;5;129;01mor\u001b[39;00m \u001b[38;5;28mself\u001b[39m._forward_pre_hooks\n\u001b[32m   1748\u001b[39m         \u001b[38;5;129;01mor\u001b[39;00m _global_backward_pre_hooks \u001b[38;5;129;01mor\u001b[39;00m _global_backward_hooks\n\u001b[32m   1749\u001b[39m         \u001b[38;5;129;01mor\u001b[39;00m _global_forward_hooks \u001b[38;5;129;01mor\u001b[39;00m _global_forward_pre_hooks):\n\u001b[32m-> \u001b[39m\u001b[32m1750\u001b[39m     \u001b[38;5;28;01mreturn\u001b[39;00m \u001b[43mforward_call\u001b[49m\u001b[43m(\u001b[49m\u001b[43m*\u001b[49m\u001b[43margs\u001b[49m\u001b[43m,\u001b[49m\u001b[43m \u001b[49m\u001b[43m*\u001b[49m\u001b[43m*\u001b[49m\u001b[43mkwargs\u001b[49m\u001b[43m)\u001b[49m\n\u001b[32m   1752\u001b[39m result = \u001b[38;5;28;01mNone\u001b[39;00m\n\u001b[32m   1753\u001b[39m called_always_called_hooks = \u001b[38;5;28mset\u001b[39m()\n",
      "\u001b[36mFile \u001b[39m\u001b[32m~/Desktop/Perceval/.venv/lib/python3.11/site-packages/torch/nn/modules/loss.py:1295\u001b[39m, in \u001b[36mCrossEntropyLoss.forward\u001b[39m\u001b[34m(self, input, target)\u001b[39m\n\u001b[32m   1294\u001b[39m \u001b[38;5;28;01mdef\u001b[39;00m\u001b[38;5;250m \u001b[39m\u001b[34mforward\u001b[39m(\u001b[38;5;28mself\u001b[39m, \u001b[38;5;28minput\u001b[39m: Tensor, target: Tensor) -> Tensor:\n\u001b[32m-> \u001b[39m\u001b[32m1295\u001b[39m     \u001b[38;5;28;01mreturn\u001b[39;00m \u001b[43mF\u001b[49m\u001b[43m.\u001b[49m\u001b[43mcross_entropy\u001b[49m\u001b[43m(\u001b[49m\n\u001b[32m   1296\u001b[39m \u001b[43m        \u001b[49m\u001b[38;5;28;43minput\u001b[39;49m\u001b[43m,\u001b[49m\n\u001b[32m   1297\u001b[39m \u001b[43m        \u001b[49m\u001b[43mtarget\u001b[49m\u001b[43m,\u001b[49m\n\u001b[32m   1298\u001b[39m \u001b[43m        \u001b[49m\u001b[43mweight\u001b[49m\u001b[43m=\u001b[49m\u001b[38;5;28;43mself\u001b[39;49m\u001b[43m.\u001b[49m\u001b[43mweight\u001b[49m\u001b[43m,\u001b[49m\n\u001b[32m   1299\u001b[39m \u001b[43m        \u001b[49m\u001b[43mignore_index\u001b[49m\u001b[43m=\u001b[49m\u001b[38;5;28;43mself\u001b[39;49m\u001b[43m.\u001b[49m\u001b[43mignore_index\u001b[49m\u001b[43m,\u001b[49m\n\u001b[32m   1300\u001b[39m \u001b[43m        \u001b[49m\u001b[43mreduction\u001b[49m\u001b[43m=\u001b[49m\u001b[38;5;28;43mself\u001b[39;49m\u001b[43m.\u001b[49m\u001b[43mreduction\u001b[49m\u001b[43m,\u001b[49m\n\u001b[32m   1301\u001b[39m \u001b[43m        \u001b[49m\u001b[43mlabel_smoothing\u001b[49m\u001b[43m=\u001b[49m\u001b[38;5;28;43mself\u001b[39;49m\u001b[43m.\u001b[49m\u001b[43mlabel_smoothing\u001b[49m\u001b[43m,\u001b[49m\n\u001b[32m   1302\u001b[39m \u001b[43m    \u001b[49m\u001b[43m)\u001b[49m\n",
      "\u001b[36mFile \u001b[39m\u001b[32m~/Desktop/Perceval/.venv/lib/python3.11/site-packages/torch/nn/functional.py:3494\u001b[39m, in \u001b[36mcross_entropy\u001b[39m\u001b[34m(input, target, weight, size_average, ignore_index, reduce, reduction, label_smoothing)\u001b[39m\n\u001b[32m   3492\u001b[39m \u001b[38;5;28;01mif\u001b[39;00m size_average \u001b[38;5;129;01mis\u001b[39;00m \u001b[38;5;129;01mnot\u001b[39;00m \u001b[38;5;28;01mNone\u001b[39;00m \u001b[38;5;129;01mor\u001b[39;00m reduce \u001b[38;5;129;01mis\u001b[39;00m \u001b[38;5;129;01mnot\u001b[39;00m \u001b[38;5;28;01mNone\u001b[39;00m:\n\u001b[32m   3493\u001b[39m     reduction = _Reduction.legacy_get_string(size_average, reduce)\n\u001b[32m-> \u001b[39m\u001b[32m3494\u001b[39m \u001b[38;5;28;01mreturn\u001b[39;00m \u001b[43mtorch\u001b[49m\u001b[43m.\u001b[49m\u001b[43m_C\u001b[49m\u001b[43m.\u001b[49m\u001b[43m_nn\u001b[49m\u001b[43m.\u001b[49m\u001b[43mcross_entropy_loss\u001b[49m\u001b[43m(\u001b[49m\n\u001b[32m   3495\u001b[39m \u001b[43m    \u001b[49m\u001b[38;5;28;43minput\u001b[39;49m\u001b[43m,\u001b[49m\n\u001b[32m   3496\u001b[39m \u001b[43m    \u001b[49m\u001b[43mtarget\u001b[49m\u001b[43m,\u001b[49m\n\u001b[32m   3497\u001b[39m \u001b[43m    \u001b[49m\u001b[43mweight\u001b[49m\u001b[43m,\u001b[49m\n\u001b[32m   3498\u001b[39m \u001b[43m    \u001b[49m\u001b[43m_Reduction\u001b[49m\u001b[43m.\u001b[49m\u001b[43mget_enum\u001b[49m\u001b[43m(\u001b[49m\u001b[43mreduction\u001b[49m\u001b[43m)\u001b[49m\u001b[43m,\u001b[49m\n\u001b[32m   3499\u001b[39m \u001b[43m    \u001b[49m\u001b[43mignore_index\u001b[49m\u001b[43m,\u001b[49m\n\u001b[32m   3500\u001b[39m \u001b[43m    \u001b[49m\u001b[43mlabel_smoothing\u001b[49m\u001b[43m,\u001b[49m\n\u001b[32m   3501\u001b[39m \u001b[43m\u001b[49m\u001b[43m)\u001b[49m\n",
      "\u001b[31mRuntimeError\u001b[39m: expected scalar type Long but found Float"
     ]
    }
   ],
   "source": [
    "for epoch in range(100):\n",
    "    correct, total = 0, 0\n",
    "    \n",
    "    for images, labels in dataloader_type2:\n",
    "        optimizer.zero_grad()\n",
    "        outputs = model_20(images)\n",
    "\n",
    "        # print(\"outputs, labels:\", outputs.shape, labels)\n",
    "\n",
    "        loss = criterion(outputs, labels)\n",
    "        loss.backward()\n",
    "        optimizer.step()\n",
    "\n",
    "        _, predicted = torch.max(outputs, 1)\n",
    "        total += labels.size(0)\n",
    "        correct += (predicted == labels).sum().item()\n",
    "\n",
    "    accuracy = 100 * correct / total\n",
    "    print(f\"Epoch {epoch+1}/{num_epochs}, Loss: {loss.item():.4f}, Accuracy: {accuracy:.2f}%\")"
   ]
  },
  {
   "cell_type": "code",
   "execution_count": 197,
   "metadata": {},
   "outputs": [],
   "source": [
    "class QuantumMNISTCNN(nn.Module):\n",
    "    def __init__(self):\n",
    "        super(QuantumMNISTCNN, self).__init__()\n",
    "        \n",
    "        self.conv_layers = nn.Sequential(\n",
    "            nn.Conv2d(5, 32, kernel_size=3, padding=1),  # (14,14) → (14,14)\n",
    "            nn.ReLU(),\n",
    "            nn.BatchNorm2d(32),\n",
    "            \n",
    "            nn.Conv2d(32, 64, kernel_size=3, padding=1),  # (14,14) → (14,14)\n",
    "            nn.ReLU(),\n",
    "            nn.BatchNorm2d(64),\n",
    "            nn.MaxPool2d(2, 2),  # (14,14) → (7,7)\n",
    "            \n",
    "            nn.Conv2d(64, 128, kernel_size=3, padding=1),  # (7,7) → (7,7)\n",
    "            nn.ReLU(),\n",
    "            nn.BatchNorm2d(128),\n",
    "            nn.MaxPool2d(2, 2)  # (7,7) → (3,3)\n",
    "        )\n",
    "        \n",
    "        self.fc_layers = nn.Sequential(\n",
    "            nn.Flatten(),\n",
    "            nn.Linear(128 * 3 * 3, 256),  # Fully Connected Layer\n",
    "            nn.ReLU(),\n",
    "            nn.Dropout(0.4),\n",
    "            nn.Linear(256, 10)  # Output layer (10 classes)\n",
    "        )\n",
    "\n",
    "    def forward(self, x):\n",
    "        x = self.conv_layers(x)\n",
    "        x = self.fc_layers(x)\n",
    "        return x"
   ]
  },
  {
   "cell_type": "code",
   "execution_count": null,
   "metadata": {},
   "outputs": [
    {
     "name": "stdout",
     "output_type": "stream",
     "text": [
      "Epoch [1/50], Loss: 20.1254, Accuracy: 9.43%\n",
      "Epoch [2/50], Loss: 16.5131, Accuracy: 13.21%\n",
      "Epoch [3/50], Loss: 15.9399, Accuracy: 20.75%\n",
      "Epoch [4/50], Loss: 15.8110, Accuracy: 16.98%\n",
      "Epoch [5/50], Loss: 15.6571, Accuracy: 20.75%\n",
      "Epoch [6/50], Loss: 15.2724, Accuracy: 18.87%\n",
      "Epoch [7/50], Loss: 15.2956, Accuracy: 15.09%\n",
      "Epoch [8/50], Loss: 15.9181, Accuracy: 22.64%\n",
      "Epoch [9/50], Loss: 15.3091, Accuracy: 16.98%\n",
      "Epoch [10/50], Loss: 15.3733, Accuracy: 22.64%\n",
      "Epoch [11/50], Loss: 15.3009, Accuracy: 22.64%\n",
      "Epoch [12/50], Loss: 15.8414, Accuracy: 18.87%\n",
      "Epoch [13/50], Loss: 15.2078, Accuracy: 18.87%\n",
      "Epoch [14/50], Loss: 15.0542, Accuracy: 18.87%\n",
      "Epoch [15/50], Loss: 15.6435, Accuracy: 9.43%\n",
      "Epoch [16/50], Loss: 15.0722, Accuracy: 20.75%\n",
      "Epoch [17/50], Loss: 15.2128, Accuracy: 16.98%\n",
      "Epoch [18/50], Loss: 15.5169, Accuracy: 13.21%\n",
      "Epoch [19/50], Loss: 15.0422, Accuracy: 16.98%\n",
      "Epoch [20/50], Loss: 15.1621, Accuracy: 15.09%\n",
      "Epoch [21/50], Loss: 15.2577, Accuracy: 11.32%\n",
      "Epoch [22/50], Loss: 15.0864, Accuracy: 13.21%\n",
      "Epoch [23/50], Loss: 15.0176, Accuracy: 15.09%\n",
      "Epoch [24/50], Loss: 14.9559, Accuracy: 11.32%\n",
      "Epoch [25/50], Loss: 15.2135, Accuracy: 18.87%\n",
      "Epoch [26/50], Loss: 14.6802, Accuracy: 16.98%\n",
      "Epoch [27/50], Loss: 14.4085, Accuracy: 15.09%\n",
      "Epoch [28/50], Loss: 13.9790, Accuracy: 20.75%\n",
      "Epoch [29/50], Loss: 14.3422, Accuracy: 24.53%\n",
      "Epoch [30/50], Loss: 12.4594, Accuracy: 37.74%\n",
      "Epoch [31/50], Loss: 12.1298, Accuracy: 47.17%\n",
      "Epoch [32/50], Loss: 12.0693, Accuracy: 37.74%\n",
      "Epoch [33/50], Loss: 8.5713, Accuracy: 58.49%\n",
      "Epoch [34/50], Loss: 6.6073, Accuracy: 71.70%\n",
      "Epoch [35/50], Loss: 4.9980, Accuracy: 81.13%\n",
      "Epoch [36/50], Loss: 2.5090, Accuracy: 90.57%\n",
      "Epoch [37/50], Loss: 2.2872, Accuracy: 92.45%\n",
      "Epoch [38/50], Loss: 1.4495, Accuracy: 94.34%\n",
      "Epoch [39/50], Loss: 1.8112, Accuracy: 90.57%\n",
      "Epoch [40/50], Loss: 0.9387, Accuracy: 98.11%\n",
      "Epoch [41/50], Loss: 0.2555, Accuracy: 100.00%\n",
      "Epoch [42/50], Loss: 0.3564, Accuracy: 98.11%\n",
      "Epoch [43/50], Loss: 0.1473, Accuracy: 100.00%\n",
      "Epoch [44/50], Loss: 0.0894, Accuracy: 100.00%\n",
      "Epoch [45/50], Loss: 0.0900, Accuracy: 100.00%\n",
      "Epoch [46/50], Loss: 0.0433, Accuracy: 100.00%\n",
      "Epoch [47/50], Loss: 0.0697, Accuracy: 100.00%\n",
      "Epoch [48/50], Loss: 0.0146, Accuracy: 100.00%\n",
      "Epoch [49/50], Loss: 0.0406, Accuracy: 100.00%\n",
      "Epoch [50/50], Loss: 0.0239, Accuracy: 100.00%\n"
     ]
    }
   ],
   "source": [
    "device = torch.device(\"cuda\" if torch.cuda.is_available() else \"cpu\")\n",
    "device = torch.device(\"mps\") if torch.backends.mps.is_available() and torch.backends.mps.is_built() else device\n",
    "model = QuantumMNISTCNN().to(device)\n",
    "criterion = nn.CrossEntropyLoss()\n",
    "optimizer = optim.Adam(model.parameters(), lr=0.001)\n",
    "\n",
    "accuracies_type2 = []\n",
    "losses_type2 = []\n",
    "\n",
    "# Training Loop\n",
    "num_epochs = 50\n",
    "for epoch in range(num_epochs):\n",
    "    model.train()\n",
    "    running_loss = 0.0\n",
    "    correct, total = 0, 0\n",
    "    \n",
    "    for images, labels in dataloader_type2:\n",
    "        images, labels = images.to(device), labels.to(device)\n",
    "        \n",
    "        optimizer.zero_grad()\n",
    "        outputs = model(images)\n",
    "        loss = criterion(outputs, labels)\n",
    "        loss.backward()\n",
    "        optimizer.step()\n",
    "        \n",
    "        running_loss += loss.item()\n",
    "        _, predicted = torch.max(outputs, 1)\n",
    "        correct += (predicted == labels).sum().item()\n",
    "        total += labels.size(0)\n",
    "\n",
    "    accuracy = 100 * correct / total\n",
    "    print(f\"Epoch [{epoch+1}/{num_epochs}], Loss: {running_loss:.4f}, Accuracy: {accuracy:.2f}%\")\n",
    "\n",
    "    accuracies_type2.append(accuracy)\n",
    "    losses_type2.append(running_loss)"
   ]
  },
  {
   "cell_type": "code",
   "execution_count": 158,
   "metadata": {},
   "outputs": [
    {
     "name": "stdout",
     "output_type": "stream",
     "text": [
      "Epoch [1/50], Loss: 15.9644, Accuracy: 4.76%\n",
      "Epoch [2/50], Loss: 14.3245, Accuracy: 7.14%\n",
      "Epoch [3/50], Loss: 12.3197, Accuracy: 26.19%\n",
      "Epoch [4/50], Loss: 13.1811, Accuracy: 21.43%\n",
      "Epoch [5/50], Loss: 12.0175, Accuracy: 30.95%\n",
      "Epoch [6/50], Loss: 12.4172, Accuracy: 19.05%\n",
      "Epoch [7/50], Loss: 11.2318, Accuracy: 28.57%\n",
      "Epoch [8/50], Loss: 10.9685, Accuracy: 38.10%\n",
      "Epoch [9/50], Loss: 8.0015, Accuracy: 69.05%\n",
      "Epoch [10/50], Loss: 7.5922, Accuracy: 76.19%\n",
      "Epoch [11/50], Loss: 5.9463, Accuracy: 73.81%\n",
      "Epoch [12/50], Loss: 4.4237, Accuracy: 80.95%\n",
      "Epoch [13/50], Loss: 2.5197, Accuracy: 100.00%\n",
      "Epoch [14/50], Loss: 1.2909, Accuracy: 97.62%\n",
      "Epoch [15/50], Loss: 1.1120, Accuracy: 95.24%\n",
      "Epoch [16/50], Loss: 0.8129, Accuracy: 97.62%\n",
      "Epoch [17/50], Loss: 0.5327, Accuracy: 100.00%\n",
      "Epoch [18/50], Loss: 0.2582, Accuracy: 100.00%\n",
      "Epoch [19/50], Loss: 0.2888, Accuracy: 100.00%\n",
      "Epoch [20/50], Loss: 0.1314, Accuracy: 100.00%\n",
      "Epoch [21/50], Loss: 0.0706, Accuracy: 100.00%\n",
      "Epoch [22/50], Loss: 0.0465, Accuracy: 100.00%\n",
      "Epoch [23/50], Loss: 0.0488, Accuracy: 100.00%\n",
      "Epoch [24/50], Loss: 0.0221, Accuracy: 100.00%\n",
      "Epoch [25/50], Loss: 0.0532, Accuracy: 100.00%\n",
      "Epoch [26/50], Loss: 0.0146, Accuracy: 100.00%\n",
      "Epoch [27/50], Loss: 0.0122, Accuracy: 100.00%\n",
      "Epoch [28/50], Loss: 0.0105, Accuracy: 100.00%\n",
      "Epoch [29/50], Loss: 0.0070, Accuracy: 100.00%\n",
      "Epoch [30/50], Loss: 0.0085, Accuracy: 100.00%\n",
      "Epoch [31/50], Loss: 0.0170, Accuracy: 100.00%\n",
      "Epoch [32/50], Loss: 0.0101, Accuracy: 100.00%\n",
      "Epoch [33/50], Loss: 0.0072, Accuracy: 100.00%\n",
      "Epoch [34/50], Loss: 0.0120, Accuracy: 100.00%\n",
      "Epoch [35/50], Loss: 0.0022, Accuracy: 100.00%\n",
      "Epoch [36/50], Loss: 0.0066, Accuracy: 100.00%\n",
      "Epoch [37/50], Loss: 0.0034, Accuracy: 100.00%\n",
      "Epoch [38/50], Loss: 0.1749, Accuracy: 100.00%\n",
      "Epoch [39/50], Loss: 0.0119, Accuracy: 100.00%\n",
      "Epoch [40/50], Loss: 0.0934, Accuracy: 100.00%\n",
      "Epoch [41/50], Loss: 0.0472, Accuracy: 100.00%\n",
      "Epoch [42/50], Loss: 0.0375, Accuracy: 100.00%\n",
      "Epoch [43/50], Loss: 0.0120, Accuracy: 100.00%\n",
      "Epoch [44/50], Loss: 0.0094, Accuracy: 100.00%\n",
      "Epoch [45/50], Loss: 0.0268, Accuracy: 100.00%\n",
      "Epoch [46/50], Loss: 0.0098, Accuracy: 100.00%\n",
      "Epoch [47/50], Loss: 0.0053, Accuracy: 100.00%\n",
      "Epoch [48/50], Loss: 0.0031, Accuracy: 100.00%\n",
      "Epoch [49/50], Loss: 0.0080, Accuracy: 100.00%\n",
      "Epoch [50/50], Loss: 0.0045, Accuracy: 100.00%\n"
     ]
    }
   ],
   "source": [
    "device = torch.device(\"cuda\" if torch.cuda.is_available() else \"cpu\")\n",
    "device = torch.device(\"mps\") if torch.backends.mps.is_available() and torch.backends.mps.is_built() else device\n",
    "model = QuantumMNISTCNN().to(device)\n",
    "criterion = nn.CrossEntropyLoss()\n",
    "optimizer = optim.Adam(model.parameters(), lr=0.001)\n",
    "\n",
    "accuracies_type1 = []\n",
    "losses_type1 = []\n",
    "\n",
    "# Training Loop\n",
    "num_epochs = 50\n",
    "for epoch in range(num_epochs):\n",
    "    model.train()\n",
    "    running_loss = 0.0\n",
    "    correct, total = 0, 0\n",
    "    \n",
    "    for images, labels in dataloader_type1:\n",
    "        images, labels = images.to(device), labels.to(device)\n",
    "        \n",
    "        optimizer.zero_grad()\n",
    "        outputs = model(images)\n",
    "        loss = criterion(outputs, labels)\n",
    "        loss.backward()\n",
    "        optimizer.step()\n",
    "        \n",
    "        running_loss += loss.item()\n",
    "        _, predicted = torch.max(outputs, 1)\n",
    "        correct += (predicted == labels).sum().item()\n",
    "        total += labels.size(0)\n",
    "\n",
    "    accuracy = 100 * correct / total\n",
    "    print(f\"Epoch [{epoch+1}/{num_epochs}], Loss: {running_loss:.4f}, Accuracy: {accuracy:.2f}%\")\n",
    "\n",
    "    accuracies_type1.append(accuracy)\n",
    "    losses_type1.append(running_loss)"
   ]
  },
  {
   "cell_type": "code",
   "execution_count": 159,
   "metadata": {},
   "outputs": [],
   "source": [
    "epochs = [i + 1 for i in range(50)]"
   ]
  },
  {
   "cell_type": "code",
   "execution_count": 170,
   "metadata": {},
   "outputs": [
    {
     "data": {
      "image/png": "[encoded data removed]",
      "text/plain": [
       "<Figure size 640x480 with 1 Axes>"
      ]
     },
     "metadata": {},
     "output_type": "display_data"
    }
   ],
   "source": [
    "x = epochs\n",
    "y1 = accuracies_type1\n",
    "y2 = accuracies_type2\n",
    "\n",
    "plt.plot(x, y1, linestyle='-', color='b', label=\"Type 1\")  # Blue line\n",
    "plt.plot(x, y2, linestyle='-', color='r', label=\"Type 2\")  # Red line\n",
    "\n",
    "plt.xlabel(\"Epochs\")\n",
    "plt.ylabel(\"Acc. %\")\n",
    "plt.title(\"Accuracies: 20 channels\")\n",
    "plt.legend()\n",
    "\n",
    "plt.show()"
   ]
  },
  {
   "cell_type": "code",
   "execution_count": 171,
   "metadata": {},
   "outputs": [
    {
     "data": {
      "image/png": "[encoded data removed]",
      "text/plain": [
       "<Figure size 640x480 with 1 Axes>"
      ]
     },
     "metadata": {},
     "output_type": "display_data"
    }
   ],
   "source": [
    "x = epochs\n",
    "y1 = losses_type1\n",
    "y2 = losses_type2\n",
    "\n",
    "plt.plot(x, y1, linestyle='-', color='b', label=\"Type 1\")  # Blue line\n",
    "plt.plot(x, y2, linestyle='-', color='r', label=\"Type 2\")  # Red line\n",
    "\n",
    "plt.xlabel(\"Epochs\")\n",
    "plt.ylabel(\"Loss\")\n",
    "plt.title(\"Losses: 20 channels\")\n",
    "plt.legend()\n",
    "\n",
    "plt.show()"
   ]
  },
  {
   "cell_type": "markdown",
   "metadata": {},
   "source": [
    "# 4 channels"
   ]
  },
  {
   "cell_type": "code",
   "execution_count": 194,
   "metadata": {},
   "outputs": [
    {
     "name": "stdout",
     "output_type": "stream",
     "text": [
      "Epoch [1/50], Loss: 39.5893, Accuracy: 21.13%\n",
      "Epoch [2/50], Loss: 38.6577, Accuracy: 19.25%\n",
      "Epoch [3/50], Loss: 36.8567, Accuracy: 18.49%\n",
      "Epoch [4/50], Loss: 34.7090, Accuracy: 25.28%\n",
      "Epoch [5/50], Loss: 35.3558, Accuracy: 17.74%\n",
      "Epoch [6/50], Loss: 33.7914, Accuracy: 22.26%\n",
      "Epoch [7/50], Loss: 34.8407, Accuracy: 20.75%\n",
      "Epoch [8/50], Loss: 34.2474, Accuracy: 24.15%\n",
      "Epoch [9/50], Loss: 34.8441, Accuracy: 18.87%\n",
      "Epoch [10/50], Loss: 33.6714, Accuracy: 18.11%\n",
      "Epoch [11/50], Loss: 34.1210, Accuracy: 16.98%\n",
      "Epoch [12/50], Loss: 32.7000, Accuracy: 18.49%\n",
      "Epoch [13/50], Loss: 33.4569, Accuracy: 20.38%\n",
      "Epoch [14/50], Loss: 33.5575, Accuracy: 21.51%\n",
      "Epoch [15/50], Loss: 33.1029, Accuracy: 18.11%\n",
      "Epoch [16/50], Loss: 32.9381, Accuracy: 25.28%\n",
      "Epoch [17/50], Loss: 32.9106, Accuracy: 18.11%\n",
      "Epoch [18/50], Loss: 33.2304, Accuracy: 21.51%\n",
      "Epoch [19/50], Loss: 33.1125, Accuracy: 20.38%\n",
      "Epoch [20/50], Loss: 33.0711, Accuracy: 23.02%\n",
      "Epoch [21/50], Loss: 33.1296, Accuracy: 21.51%\n",
      "Epoch [22/50], Loss: 32.9502, Accuracy: 23.77%\n",
      "Epoch [23/50], Loss: 33.3677, Accuracy: 22.26%\n",
      "Epoch [24/50], Loss: 32.5169, Accuracy: 23.77%\n",
      "Epoch [25/50], Loss: 33.5463, Accuracy: 20.75%\n",
      "Epoch [26/50], Loss: 32.8478, Accuracy: 22.64%\n",
      "Epoch [27/50], Loss: 32.5113, Accuracy: 24.53%\n",
      "Epoch [28/50], Loss: 32.8691, Accuracy: 22.26%\n",
      "Epoch [29/50], Loss: 32.7331, Accuracy: 23.02%\n",
      "Epoch [30/50], Loss: 32.8204, Accuracy: 21.51%\n",
      "Epoch [31/50], Loss: 32.6838, Accuracy: 21.51%\n",
      "Epoch [32/50], Loss: 32.7362, Accuracy: 26.42%\n",
      "Epoch [33/50], Loss: 32.8245, Accuracy: 20.75%\n",
      "Epoch [34/50], Loss: 32.8742, Accuracy: 23.40%\n",
      "Epoch [35/50], Loss: 32.6669, Accuracy: 20.00%\n",
      "Epoch [36/50], Loss: 33.3967, Accuracy: 21.13%\n",
      "Epoch [37/50], Loss: 32.9826, Accuracy: 23.02%\n",
      "Epoch [38/50], Loss: 32.4259, Accuracy: 20.38%\n",
      "Epoch [39/50], Loss: 32.5583, Accuracy: 22.64%\n",
      "Epoch [40/50], Loss: 32.9352, Accuracy: 21.51%\n",
      "Epoch [41/50], Loss: 32.4931, Accuracy: 22.64%\n",
      "Epoch [42/50], Loss: 32.7475, Accuracy: 23.02%\n",
      "Epoch [43/50], Loss: 32.9990, Accuracy: 18.11%\n",
      "Epoch [44/50], Loss: 32.3564, Accuracy: 20.38%\n",
      "Epoch [45/50], Loss: 32.7417, Accuracy: 23.02%\n",
      "Epoch [46/50], Loss: 32.3422, Accuracy: 22.64%\n",
      "Epoch [47/50], Loss: 32.5629, Accuracy: 22.64%\n",
      "Epoch [48/50], Loss: 32.7887, Accuracy: 23.40%\n",
      "Epoch [49/50], Loss: 32.5609, Accuracy: 19.25%\n",
      "Epoch [50/50], Loss: 32.9535, Accuracy: 26.04%\n"
     ]
    }
   ],
   "source": [
    "device = torch.device(\"cuda\" if torch.cuda.is_available() else \"cpu\")\n",
    "device = torch.device(\"mps\") if torch.backends.mps.is_available() and torch.backends.mps.is_built() else device\n",
    "model_1 = QuantumMNISTCNN().to(device)\n",
    "# model_1 = QuantumMNISTClassifierV2().to(device)\n",
    "criterion = nn.CrossEntropyLoss()\n",
    "optimizer = optim.Adam(model_1.parameters(), lr=0.001)\n",
    "\n",
    "accuracies_type2__4 = []\n",
    "losses_type2__4 = []\n",
    "\n",
    "# Training Loop\n",
    "num_epochs = 50\n",
    "for epoch in range(num_epochs):\n",
    "    model.train()\n",
    "    running_loss = 0.0\n",
    "    correct, total = 0, 0\n",
    "    \n",
    "    for images, labels in dataloader_type2_extended__4:\n",
    "        images, labels = images.to(device), labels.to(device)\n",
    "        \n",
    "        optimizer.zero_grad()\n",
    "        outputs = model_1(images)\n",
    "        loss = criterion(outputs, labels)\n",
    "        loss.backward()\n",
    "        optimizer.step()\n",
    "        \n",
    "        running_loss += loss.item()\n",
    "        _, predicted = torch.max(outputs, 1)\n",
    "        correct += (predicted == labels).sum().item()\n",
    "        total += labels.size(0)\n",
    "\n",
    "    accuracy = 100 * correct / total\n",
    "    print(f\"Epoch [{epoch+1}/{num_epochs}], Loss: {running_loss:.4f}, Accuracy: {accuracy:.2f}%\")\n",
    "\n",
    "    accuracies_type2__4.append(accuracy)\n",
    "    losses_type2__4.append(running_loss)"
   ]
  },
  {
   "cell_type": "code",
   "execution_count": 196,
   "metadata": {},
   "outputs": [
    {
     "name": "stdout",
     "output_type": "stream",
     "text": [
      "Epoch [1/50], Loss: 32.9946, Accuracy: 14.76%\n",
      "Epoch [2/50], Loss: 29.0582, Accuracy: 27.62%\n",
      "Epoch [3/50], Loss: 30.2621, Accuracy: 22.86%\n",
      "Epoch [4/50], Loss: 28.5813, Accuracy: 21.43%\n",
      "Epoch [5/50], Loss: 27.7944, Accuracy: 30.00%\n",
      "Epoch [6/50], Loss: 26.1371, Accuracy: 31.43%\n",
      "Epoch [7/50], Loss: 25.9495, Accuracy: 31.90%\n",
      "Epoch [8/50], Loss: 25.9680, Accuracy: 34.29%\n",
      "Epoch [9/50], Loss: 25.7742, Accuracy: 30.00%\n",
      "Epoch [10/50], Loss: 26.0598, Accuracy: 35.24%\n",
      "Epoch [11/50], Loss: 24.2898, Accuracy: 35.24%\n",
      "Epoch [12/50], Loss: 24.4667, Accuracy: 31.90%\n",
      "Epoch [13/50], Loss: 24.1976, Accuracy: 36.19%\n",
      "Epoch [14/50], Loss: 24.1868, Accuracy: 29.52%\n",
      "Epoch [15/50], Loss: 25.3236, Accuracy: 34.76%\n",
      "Epoch [16/50], Loss: 24.3768, Accuracy: 37.62%\n",
      "Epoch [17/50], Loss: 24.6048, Accuracy: 35.24%\n",
      "Epoch [18/50], Loss: 24.6625, Accuracy: 35.24%\n",
      "Epoch [19/50], Loss: 23.4468, Accuracy: 38.10%\n",
      "Epoch [20/50], Loss: 23.3043, Accuracy: 40.00%\n",
      "Epoch [21/50], Loss: 23.0624, Accuracy: 37.14%\n",
      "Epoch [22/50], Loss: 22.4282, Accuracy: 39.05%\n",
      "Epoch [23/50], Loss: 23.4325, Accuracy: 38.10%\n",
      "Epoch [24/50], Loss: 22.8961, Accuracy: 37.62%\n",
      "Epoch [25/50], Loss: 23.8359, Accuracy: 36.19%\n",
      "Epoch [26/50], Loss: 23.5485, Accuracy: 35.71%\n",
      "Epoch [27/50], Loss: 23.3082, Accuracy: 37.62%\n",
      "Epoch [28/50], Loss: 23.8501, Accuracy: 39.05%\n",
      "Epoch [29/50], Loss: 22.9465, Accuracy: 35.71%\n",
      "Epoch [30/50], Loss: 23.8689, Accuracy: 39.52%\n",
      "Epoch [31/50], Loss: 23.5639, Accuracy: 38.57%\n",
      "Epoch [32/50], Loss: 24.3170, Accuracy: 36.67%\n",
      "Epoch [33/50], Loss: 22.3899, Accuracy: 40.00%\n",
      "Epoch [34/50], Loss: 23.9823, Accuracy: 41.43%\n",
      "Epoch [35/50], Loss: 22.9111, Accuracy: 40.00%\n",
      "Epoch [36/50], Loss: 23.4302, Accuracy: 38.10%\n",
      "Epoch [37/50], Loss: 23.0147, Accuracy: 39.52%\n",
      "Epoch [38/50], Loss: 23.3303, Accuracy: 39.52%\n",
      "Epoch [39/50], Loss: 22.5270, Accuracy: 35.71%\n",
      "Epoch [40/50], Loss: 22.5339, Accuracy: 42.38%\n",
      "Epoch [41/50], Loss: 22.2035, Accuracy: 40.00%\n",
      "Epoch [42/50], Loss: 22.0459, Accuracy: 39.05%\n",
      "Epoch [43/50], Loss: 23.3589, Accuracy: 42.86%\n",
      "Epoch [44/50], Loss: 21.6279, Accuracy: 40.95%\n",
      "Epoch [45/50], Loss: 22.9276, Accuracy: 40.95%\n",
      "Epoch [46/50], Loss: 21.3360, Accuracy: 42.86%\n",
      "Epoch [47/50], Loss: 21.5560, Accuracy: 43.81%\n",
      "Epoch [48/50], Loss: 22.5435, Accuracy: 39.52%\n",
      "Epoch [49/50], Loss: 20.8585, Accuracy: 44.76%\n",
      "Epoch [50/50], Loss: 22.4605, Accuracy: 44.29%\n"
     ]
    }
   ],
   "source": [
    "device = torch.device(\"cuda\" if torch.cuda.is_available() else \"cpu\")\n",
    "device = torch.device(\"mps\") if torch.backends.mps.is_available() and torch.backends.mps.is_built() else device\n",
    "model_1 = QuantumMNISTCNN().to(device)\n",
    "# model_1 = QuantumMNISTClassifierV2().to(device)\n",
    "criterion = nn.CrossEntropyLoss()\n",
    "optimizer = optim.Adam(model_1.parameters(), lr=0.001)\n",
    "\n",
    "accuracies_type1__4 = []\n",
    "losses_type1__4 = []\n",
    "\n",
    "# Training Loop\n",
    "num_epochs = 50\n",
    "for epoch in range(num_epochs):\n",
    "    model.train()\n",
    "    running_loss = 0.0\n",
    "    correct, total = 0, 0\n",
    "    \n",
    "    for images, labels in dataloader_type1_extended__4:\n",
    "        images, labels = images.to(device), labels.to(device)\n",
    "        \n",
    "        optimizer.zero_grad()\n",
    "        outputs = model_1(images)\n",
    "        loss = criterion(outputs, labels)\n",
    "        loss.backward()\n",
    "        optimizer.step()\n",
    "        \n",
    "        running_loss += loss.item()\n",
    "        _, predicted = torch.max(outputs, 1)\n",
    "        correct += (predicted == labels).sum().item()\n",
    "        total += labels.size(0)\n",
    "\n",
    "    accuracy = 100 * correct / total\n",
    "    print(f\"Epoch [{epoch+1}/{num_epochs}], Loss: {running_loss:.4f}, Accuracy: {accuracy:.2f}%\")\n",
    "\n",
    "    accuracies_type1__4.append(accuracy)\n",
    "    losses_type1__4.append(running_loss)"
   ]
  },
  {
   "cell_type": "markdown",
   "metadata": {},
   "source": [
    "## 5 channels"
   ]
  },
  {
   "cell_type": "code",
   "execution_count": 201,
   "metadata": {},
   "outputs": [
    {
     "name": "stdout",
     "output_type": "stream",
     "text": [
      "Epoch [1/100], Loss: 33.3846, Accuracy: 15.57%\n",
      "Epoch [2/100], Loss: 31.7843, Accuracy: 20.28%\n",
      "Epoch [3/100], Loss: 29.1472, Accuracy: 23.11%\n",
      "Epoch [4/100], Loss: 29.1746, Accuracy: 21.23%\n",
      "Epoch [5/100], Loss: 29.0520, Accuracy: 21.23%\n",
      "Epoch [6/100], Loss: 29.8181, Accuracy: 17.92%\n",
      "Epoch [7/100], Loss: 29.4126, Accuracy: 22.64%\n",
      "Epoch [8/100], Loss: 28.6807, Accuracy: 22.17%\n",
      "Epoch [9/100], Loss: 28.7619, Accuracy: 18.87%\n",
      "Epoch [10/100], Loss: 27.2539, Accuracy: 20.75%\n",
      "Epoch [11/100], Loss: 28.7538, Accuracy: 24.06%\n",
      "Epoch [12/100], Loss: 28.7187, Accuracy: 20.28%\n",
      "Epoch [13/100], Loss: 29.5655, Accuracy: 19.34%\n",
      "Epoch [14/100], Loss: 27.5952, Accuracy: 24.06%\n",
      "Epoch [15/100], Loss: 26.4940, Accuracy: 27.83%\n",
      "Epoch [16/100], Loss: 26.6778, Accuracy: 25.94%\n",
      "Epoch [17/100], Loss: 26.4652, Accuracy: 25.94%\n",
      "Epoch [18/100], Loss: 26.5091, Accuracy: 27.83%\n",
      "Epoch [19/100], Loss: 27.5694, Accuracy: 30.19%\n",
      "Epoch [20/100], Loss: 26.8190, Accuracy: 26.42%\n",
      "Epoch [21/100], Loss: 26.8739, Accuracy: 22.64%\n",
      "Epoch [22/100], Loss: 26.3428, Accuracy: 28.77%\n",
      "Epoch [23/100], Loss: 27.9982, Accuracy: 25.00%\n",
      "Epoch [24/100], Loss: 27.0519, Accuracy: 22.64%\n",
      "Epoch [25/100], Loss: 26.8125, Accuracy: 25.94%\n",
      "Epoch [26/100], Loss: 26.9902, Accuracy: 24.53%\n",
      "Epoch [27/100], Loss: 26.8212, Accuracy: 30.66%\n",
      "Epoch [28/100], Loss: 26.6106, Accuracy: 22.17%\n",
      "Epoch [29/100], Loss: 26.4747, Accuracy: 27.36%\n",
      "Epoch [30/100], Loss: 26.4328, Accuracy: 29.72%\n",
      "Epoch [31/100], Loss: 26.2233, Accuracy: 29.72%\n",
      "Epoch [32/100], Loss: 26.7852, Accuracy: 26.89%\n",
      "Epoch [33/100], Loss: 26.3661, Accuracy: 25.00%\n",
      "Epoch [34/100], Loss: 25.9509, Accuracy: 29.25%\n",
      "Epoch [35/100], Loss: 26.1749, Accuracy: 28.77%\n",
      "Epoch [36/100], Loss: 25.8030, Accuracy: 28.77%\n",
      "Epoch [37/100], Loss: 26.2141, Accuracy: 27.36%\n",
      "Epoch [38/100], Loss: 26.1986, Accuracy: 27.83%\n",
      "Epoch [39/100], Loss: 26.9814, Accuracy: 28.77%\n",
      "Epoch [40/100], Loss: 26.0238, Accuracy: 26.42%\n",
      "Epoch [41/100], Loss: 26.0809, Accuracy: 26.89%\n",
      "Epoch [42/100], Loss: 26.0914, Accuracy: 28.77%\n",
      "Epoch [43/100], Loss: 26.3011, Accuracy: 28.30%\n",
      "Epoch [44/100], Loss: 26.4777, Accuracy: 26.42%\n",
      "Epoch [45/100], Loss: 26.0336, Accuracy: 29.72%\n",
      "Epoch [46/100], Loss: 25.8727, Accuracy: 28.77%\n",
      "Epoch [47/100], Loss: 26.2231, Accuracy: 29.72%\n",
      "Epoch [48/100], Loss: 26.0656, Accuracy: 30.66%\n",
      "Epoch [49/100], Loss: 25.9820, Accuracy: 29.72%\n",
      "Epoch [50/100], Loss: 26.2012, Accuracy: 27.36%\n",
      "Epoch [51/100], Loss: 25.4749, Accuracy: 29.25%\n",
      "Epoch [52/100], Loss: 26.4118, Accuracy: 25.94%\n",
      "Epoch [53/100], Loss: 26.1555, Accuracy: 27.83%\n",
      "Epoch [54/100], Loss: 26.0231, Accuracy: 28.77%\n",
      "Epoch [55/100], Loss: 26.0955, Accuracy: 28.30%\n",
      "Epoch [56/100], Loss: 25.5480, Accuracy: 29.25%\n",
      "Epoch [57/100], Loss: 25.9438, Accuracy: 29.72%\n",
      "Epoch [58/100], Loss: 26.5073, Accuracy: 27.83%\n",
      "Epoch [59/100], Loss: 25.9881, Accuracy: 29.72%\n",
      "Epoch [60/100], Loss: 24.9520, Accuracy: 29.25%\n",
      "Epoch [61/100], Loss: 26.0714, Accuracy: 29.72%\n",
      "Epoch [62/100], Loss: 25.8252, Accuracy: 30.66%\n",
      "Epoch [63/100], Loss: 25.5522, Accuracy: 27.83%\n",
      "Epoch [64/100], Loss: 25.6885, Accuracy: 30.19%\n",
      "Epoch [65/100], Loss: 25.6457, Accuracy: 26.42%\n",
      "Epoch [66/100], Loss: 25.8150, Accuracy: 28.30%\n",
      "Epoch [67/100], Loss: 26.2301, Accuracy: 28.77%\n",
      "Epoch [68/100], Loss: 25.7662, Accuracy: 29.25%\n",
      "Epoch [69/100], Loss: 25.6325, Accuracy: 29.72%\n",
      "Epoch [70/100], Loss: 25.9907, Accuracy: 27.83%\n",
      "Epoch [71/100], Loss: 25.7019, Accuracy: 29.72%\n",
      "Epoch [72/100], Loss: 25.6462, Accuracy: 30.66%\n",
      "Epoch [73/100], Loss: 25.8492, Accuracy: 26.42%\n",
      "Epoch [74/100], Loss: 25.5205, Accuracy: 29.25%\n",
      "Epoch [75/100], Loss: 26.2486, Accuracy: 29.72%\n",
      "Epoch [76/100], Loss: 26.3020, Accuracy: 28.77%\n",
      "Epoch [77/100], Loss: 26.0066, Accuracy: 28.77%\n",
      "Epoch [78/100], Loss: 25.6687, Accuracy: 27.83%\n",
      "Epoch [79/100], Loss: 25.6020, Accuracy: 28.77%\n",
      "Epoch [80/100], Loss: 25.8441, Accuracy: 29.72%\n",
      "Epoch [81/100], Loss: 26.1953, Accuracy: 28.77%\n",
      "Epoch [82/100], Loss: 25.6176, Accuracy: 29.72%\n",
      "Epoch [83/100], Loss: 25.8172, Accuracy: 30.19%\n",
      "Epoch [84/100], Loss: 25.7485, Accuracy: 30.19%\n",
      "Epoch [85/100], Loss: 26.2080, Accuracy: 28.77%\n",
      "Epoch [86/100], Loss: 25.7093, Accuracy: 30.66%\n",
      "Epoch [87/100], Loss: 25.8142, Accuracy: 28.77%\n",
      "Epoch [88/100], Loss: 25.7696, Accuracy: 29.72%\n",
      "Epoch [89/100], Loss: 26.0640, Accuracy: 29.72%\n",
      "Epoch [90/100], Loss: 25.5137, Accuracy: 29.72%\n",
      "Epoch [91/100], Loss: 25.5548, Accuracy: 29.25%\n",
      "Epoch [92/100], Loss: 26.2245, Accuracy: 27.83%\n",
      "Epoch [93/100], Loss: 26.1537, Accuracy: 29.25%\n",
      "Epoch [94/100], Loss: 26.1861, Accuracy: 28.30%\n",
      "Epoch [95/100], Loss: 26.0623, Accuracy: 28.77%\n",
      "Epoch [96/100], Loss: 25.5832, Accuracy: 30.66%\n",
      "Epoch [97/100], Loss: 25.8535, Accuracy: 29.72%\n",
      "Epoch [98/100], Loss: 25.7040, Accuracy: 30.19%\n",
      "Epoch [99/100], Loss: 25.6529, Accuracy: 29.72%\n",
      "Epoch [100/100], Loss: 25.5281, Accuracy: 30.19%\n"
     ]
    }
   ],
   "source": [
    "device = torch.device(\"cuda\" if torch.cuda.is_available() else \"cpu\")\n",
    "device = torch.device(\"mps\") if torch.backends.mps.is_available() and torch.backends.mps.is_built() else device\n",
    "model_1 = QuantumMNISTCNN().to(device)\n",
    "# model_1 = QuantumMNISTClassifierV2().to(device)\n",
    "criterion = nn.CrossEntropyLoss()\n",
    "optimizer = optim.Adam(model_1.parameters(), lr=0.001)\n",
    "\n",
    "accuracies_type2__5 = []\n",
    "losses_type2__5 = []\n",
    "\n",
    "# Training Loop\n",
    "num_epochs = 100\n",
    "for epoch in range(num_epochs):\n",
    "    model.train()\n",
    "    running_loss = 0.0\n",
    "    correct, total = 0, 0\n",
    "    \n",
    "    for images, labels in dataloader_type2_extended__5:\n",
    "        images, labels = images.to(device), labels.to(device)\n",
    "        \n",
    "        optimizer.zero_grad()\n",
    "        outputs = model_1(images)\n",
    "        loss = criterion(outputs, labels)\n",
    "        loss.backward()\n",
    "        optimizer.step()\n",
    "        \n",
    "        running_loss += loss.item()\n",
    "        _, predicted = torch.max(outputs, 1)\n",
    "        correct += (predicted == labels).sum().item()\n",
    "        total += labels.size(0)\n",
    "\n",
    "    accuracy = 100 * correct / total\n",
    "    print(f\"Epoch [{epoch+1}/{num_epochs}], Loss: {running_loss:.4f}, Accuracy: {accuracy:.2f}%\")\n",
    "\n",
    "    accuracies_type2__5.append(accuracy)\n",
    "    losses_type2__5.append(running_loss)"
   ]
  },
  {
   "cell_type": "code",
   "execution_count": 202,
   "metadata": {},
   "outputs": [
    {
     "name": "stdout",
     "output_type": "stream",
     "text": [
      "Epoch [1/100], Loss: 26.3607, Accuracy: 19.64%\n",
      "Epoch [2/100], Loss: 23.4256, Accuracy: 19.05%\n",
      "Epoch [3/100], Loss: 20.9185, Accuracy: 27.98%\n",
      "Epoch [4/100], Loss: 21.6070, Accuracy: 32.74%\n",
      "Epoch [5/100], Loss: 20.9458, Accuracy: 22.62%\n",
      "Epoch [6/100], Loss: 20.5077, Accuracy: 33.33%\n",
      "Epoch [7/100], Loss: 20.1636, Accuracy: 29.76%\n",
      "Epoch [8/100], Loss: 20.2109, Accuracy: 34.52%\n",
      "Epoch [9/100], Loss: 20.0313, Accuracy: 27.98%\n",
      "Epoch [10/100], Loss: 19.7580, Accuracy: 31.55%\n",
      "Epoch [11/100], Loss: 18.8895, Accuracy: 35.12%\n",
      "Epoch [12/100], Loss: 19.2043, Accuracy: 35.71%\n",
      "Epoch [13/100], Loss: 19.0187, Accuracy: 36.31%\n",
      "Epoch [14/100], Loss: 18.6077, Accuracy: 34.52%\n",
      "Epoch [15/100], Loss: 18.5972, Accuracy: 38.10%\n",
      "Epoch [16/100], Loss: 18.4117, Accuracy: 36.90%\n",
      "Epoch [17/100], Loss: 19.1049, Accuracy: 36.90%\n",
      "Epoch [18/100], Loss: 18.3498, Accuracy: 36.31%\n",
      "Epoch [19/100], Loss: 18.4565, Accuracy: 36.31%\n",
      "Epoch [20/100], Loss: 18.2031, Accuracy: 38.10%\n",
      "Epoch [21/100], Loss: 18.2908, Accuracy: 37.50%\n",
      "Epoch [22/100], Loss: 18.2347, Accuracy: 36.31%\n",
      "Epoch [23/100], Loss: 17.7419, Accuracy: 39.29%\n",
      "Epoch [24/100], Loss: 17.2699, Accuracy: 42.86%\n",
      "Epoch [25/100], Loss: 16.8129, Accuracy: 44.05%\n",
      "Epoch [26/100], Loss: 16.3297, Accuracy: 47.02%\n",
      "Epoch [27/100], Loss: 16.5541, Accuracy: 49.40%\n",
      "Epoch [28/100], Loss: 17.7843, Accuracy: 38.69%\n",
      "Epoch [29/100], Loss: 16.0118, Accuracy: 47.02%\n",
      "Epoch [30/100], Loss: 15.8046, Accuracy: 47.62%\n",
      "Epoch [31/100], Loss: 14.8828, Accuracy: 48.81%\n",
      "Epoch [32/100], Loss: 14.1135, Accuracy: 49.40%\n",
      "Epoch [33/100], Loss: 14.2030, Accuracy: 54.17%\n",
      "Epoch [34/100], Loss: 14.0282, Accuracy: 54.17%\n",
      "Epoch [35/100], Loss: 12.6034, Accuracy: 63.10%\n",
      "Epoch [36/100], Loss: 12.7824, Accuracy: 62.50%\n",
      "Epoch [37/100], Loss: 13.3233, Accuracy: 54.17%\n",
      "Epoch [38/100], Loss: 12.6138, Accuracy: 58.93%\n",
      "Epoch [39/100], Loss: 11.1492, Accuracy: 63.69%\n",
      "Epoch [40/100], Loss: 9.9780, Accuracy: 67.86%\n",
      "Epoch [41/100], Loss: 10.4392, Accuracy: 59.52%\n",
      "Epoch [42/100], Loss: 10.3156, Accuracy: 73.81%\n",
      "Epoch [43/100], Loss: 9.8975, Accuracy: 67.26%\n",
      "Epoch [44/100], Loss: 10.7115, Accuracy: 67.26%\n",
      "Epoch [45/100], Loss: 10.5865, Accuracy: 67.26%\n",
      "Epoch [46/100], Loss: 9.3065, Accuracy: 69.05%\n",
      "Epoch [47/100], Loss: 12.1964, Accuracy: 58.93%\n",
      "Epoch [48/100], Loss: 10.8390, Accuracy: 66.67%\n",
      "Epoch [49/100], Loss: 9.5409, Accuracy: 66.67%\n",
      "Epoch [50/100], Loss: 8.3180, Accuracy: 72.02%\n",
      "Epoch [51/100], Loss: 7.7026, Accuracy: 76.19%\n",
      "Epoch [52/100], Loss: 8.5033, Accuracy: 73.81%\n",
      "Epoch [53/100], Loss: 8.4110, Accuracy: 73.21%\n",
      "Epoch [54/100], Loss: 7.2966, Accuracy: 75.60%\n",
      "Epoch [55/100], Loss: 6.3743, Accuracy: 77.98%\n",
      "Epoch [56/100], Loss: 9.0703, Accuracy: 72.02%\n",
      "Epoch [57/100], Loss: 10.9158, Accuracy: 66.07%\n",
      "Epoch [58/100], Loss: 10.9922, Accuracy: 64.29%\n",
      "Epoch [59/100], Loss: 10.9510, Accuracy: 63.69%\n",
      "Epoch [60/100], Loss: 7.8895, Accuracy: 75.60%\n",
      "Epoch [61/100], Loss: 6.3458, Accuracy: 78.57%\n",
      "Epoch [62/100], Loss: 6.8711, Accuracy: 78.57%\n",
      "Epoch [63/100], Loss: 6.8164, Accuracy: 75.60%\n",
      "Epoch [64/100], Loss: 6.5954, Accuracy: 83.33%\n",
      "Epoch [65/100], Loss: 7.2352, Accuracy: 73.81%\n",
      "Epoch [66/100], Loss: 7.3979, Accuracy: 75.60%\n",
      "Epoch [67/100], Loss: 9.5586, Accuracy: 68.45%\n",
      "Epoch [68/100], Loss: 7.4860, Accuracy: 77.38%\n",
      "Epoch [69/100], Loss: 9.1522, Accuracy: 66.07%\n",
      "Epoch [70/100], Loss: 6.7234, Accuracy: 79.17%\n",
      "Epoch [71/100], Loss: 5.3639, Accuracy: 85.12%\n",
      "Epoch [72/100], Loss: 5.0402, Accuracy: 82.14%\n",
      "Epoch [73/100], Loss: 6.3312, Accuracy: 76.19%\n",
      "Epoch [74/100], Loss: 5.3821, Accuracy: 82.74%\n",
      "Epoch [75/100], Loss: 4.6368, Accuracy: 87.50%\n",
      "Epoch [76/100], Loss: 6.2931, Accuracy: 78.57%\n",
      "Epoch [77/100], Loss: 4.5988, Accuracy: 86.90%\n",
      "Epoch [78/100], Loss: 3.3143, Accuracy: 88.69%\n",
      "Epoch [79/100], Loss: 3.4468, Accuracy: 89.88%\n",
      "Epoch [80/100], Loss: 3.4473, Accuracy: 89.29%\n",
      "Epoch [81/100], Loss: 4.5749, Accuracy: 85.12%\n",
      "Epoch [82/100], Loss: 6.6516, Accuracy: 77.38%\n",
      "Epoch [83/100], Loss: 6.3574, Accuracy: 82.14%\n",
      "Epoch [84/100], Loss: 4.6152, Accuracy: 85.71%\n",
      "Epoch [85/100], Loss: 3.1122, Accuracy: 89.29%\n",
      "Epoch [86/100], Loss: 2.4759, Accuracy: 90.48%\n",
      "Epoch [87/100], Loss: 2.1484, Accuracy: 94.05%\n",
      "Epoch [88/100], Loss: 3.2017, Accuracy: 89.88%\n",
      "Epoch [89/100], Loss: 2.9385, Accuracy: 89.88%\n",
      "Epoch [90/100], Loss: 2.2807, Accuracy: 92.86%\n",
      "Epoch [91/100], Loss: 2.6553, Accuracy: 90.48%\n",
      "Epoch [92/100], Loss: 2.4289, Accuracy: 94.05%\n",
      "Epoch [93/100], Loss: 1.7683, Accuracy: 97.02%\n",
      "Epoch [94/100], Loss: 0.7733, Accuracy: 98.81%\n",
      "Epoch [95/100], Loss: 0.6213, Accuracy: 98.81%\n",
      "Epoch [96/100], Loss: 0.4623, Accuracy: 98.81%\n",
      "Epoch [97/100], Loss: 0.5533, Accuracy: 98.21%\n",
      "Epoch [98/100], Loss: 0.2963, Accuracy: 99.40%\n",
      "Epoch [99/100], Loss: 0.3930, Accuracy: 99.40%\n",
      "Epoch [100/100], Loss: 0.4863, Accuracy: 98.21%\n"
     ]
    }
   ],
   "source": [
    "device = torch.device(\"cuda\" if torch.cuda.is_available() else \"cpu\")\n",
    "device = torch.device(\"mps\") if torch.backends.mps.is_available() and torch.backends.mps.is_built() else device\n",
    "model_1 = QuantumMNISTCNN().to(device)\n",
    "# model_1 = QuantumMNISTClassifierV2().to(device)\n",
    "criterion = nn.CrossEntropyLoss()\n",
    "optimizer = optim.Adam(model_1.parameters(), lr=0.001)\n",
    "\n",
    "accuracies_type1__5 = []\n",
    "losses_type1__5 = []\n",
    "\n",
    "# Training Loop\n",
    "num_epochs = 100\n",
    "for epoch in range(num_epochs):\n",
    "    model.train()\n",
    "    running_loss = 0.0\n",
    "    correct, total = 0, 0\n",
    "    \n",
    "    for images, labels in dataloader_type1_extended__5:\n",
    "        images, labels = images.to(device), labels.to(device)\n",
    "        \n",
    "        optimizer.zero_grad()\n",
    "        outputs = model_1(images)\n",
    "        loss = criterion(outputs, labels)\n",
    "        loss.backward()\n",
    "        optimizer.step()\n",
    "        \n",
    "        running_loss += loss.item()\n",
    "        _, predicted = torch.max(outputs, 1)\n",
    "        correct += (predicted == labels).sum().item()\n",
    "        total += labels.size(0)\n",
    "\n",
    "    accuracy = 100 * correct / total\n",
    "    print(f\"Epoch [{epoch+1}/{num_epochs}], Loss: {running_loss:.4f}, Accuracy: {accuracy:.2f}%\")\n",
    "\n",
    "    accuracies_type1__5.append(accuracy)\n",
    "    losses_type1__5.append(running_loss)"
   ]
  },
  {
   "cell_type": "code",
   "execution_count": 204,
   "metadata": {},
   "outputs": [
    {
     "data": {
      "image/png": "[encoded data removed]",
      "text/plain": [
       "<Figure size 640x480 with 1 Axes>"
      ]
     },
     "metadata": {},
     "output_type": "display_data"
    }
   ],
   "source": [
    "x = [i for i in range(100)]\n",
    "y1 = accuracies_type1__5\n",
    "y2 = accuracies_type2__5\n",
    "\n",
    "plt.plot(x, y1, linestyle='-', color='b', label=\"Type 1\")  # Blue line\n",
    "plt.plot(x, y2, linestyle='-', color='r', label=\"Type 2\")  # Red line\n",
    "\n",
    "plt.xlabel(\"Epochs\")\n",
    "plt.ylabel(\"Acc. %\")\n",
    "plt.title(\"Accuracies: 5 channels\")\n",
    "plt.legend()\n",
    "\n",
    "plt.show()"
   ]
  },
  {
   "cell_type": "code",
   "execution_count": 205,
   "metadata": {},
   "outputs": [
    {
     "data": {
      "image/png": "[encoded data removed]",
      "text/plain": [
       "<Figure size 640x480 with 1 Axes>"
      ]
     },
     "metadata": {},
     "output_type": "display_data"
    }
   ],
   "source": [
    "x = [i for i in range(100)]\n",
    "y1 = losses_type1__5\n",
    "y2 = losses_type2__5\n",
    "\n",
    "plt.plot(x, y1, linestyle='-', color='b', label=\"Type 1\")  # Blue line\n",
    "plt.plot(x, y2, linestyle='-', color='r', label=\"Type 2\")  # Red line\n",
    "\n",
    "plt.xlabel(\"Epochs\")\n",
    "plt.ylabel(\"Loss\")\n",
    "plt.title(\"Losses: 5 channels\")\n",
    "plt.legend()\n",
    "\n",
    "plt.show()"
   ]
  },
  {
   "cell_type": "code",
   "execution_count": 209,
   "metadata": {},
   "outputs": [
    {
     "data": {
      "text/plain": [
       "[9.433962264150944,\n",
       " 13.20754716981132,\n",
       " 20.754716981132077,\n",
       " 16.9811320754717,\n",
       " 20.754716981132077,\n",
       " 18.867924528301888,\n",
       " 15.09433962264151,\n",
       " 22.641509433962263,\n",
       " 16.9811320754717,\n",
       " 22.641509433962263,\n",
       " 22.641509433962263,\n",
       " 18.867924528301888,\n",
       " 18.867924528301888,\n",
       " 18.867924528301888,\n",
       " 9.433962264150944,\n",
       " 20.754716981132077,\n",
       " 16.9811320754717,\n",
       " 13.20754716981132,\n",
       " 16.9811320754717,\n",
       " 15.09433962264151,\n",
       " 11.320754716981131,\n",
       " 13.20754716981132,\n",
       " 15.09433962264151,\n",
       " 11.320754716981131,\n",
       " 18.867924528301888,\n",
       " 16.9811320754717,\n",
       " 15.09433962264151,\n",
       " 20.754716981132077,\n",
       " 24.528301886792452,\n",
       " 37.735849056603776,\n",
       " 47.16981132075472,\n",
       " 37.735849056603776,\n",
       " 58.490566037735846,\n",
       " 71.69811320754717,\n",
       " 81.13207547169812,\n",
       " 90.56603773584905,\n",
       " 92.45283018867924,\n",
       " 94.33962264150944,\n",
       " 90.56603773584905,\n",
       " 98.11320754716981,\n",
       " 100.0,\n",
       " 98.11320754716981,\n",
       " 100.0,\n",
       " 100.0,\n",
       " 100.0,\n",
       " 100.0,\n",
       " 100.0,\n",
       " 100.0,\n",
       " 100.0,\n",
       " 100.0]"
      ]
     },
     "execution_count": 209,
     "metadata": {},
     "output_type": "execute_result"
    }
   ],
   "source": [
    "accuracies_type2"
   ]
  },
  {
   "cell_type": "code",
   "execution_count": null,
   "metadata": {},
   "outputs": [],
   "source": []
  }
 ],
 "metadata": {
  "kernelspec": {
   "display_name": ".venv",
   "language": "python",
   "name": "python3"
  },
  "language_info": {
   "codemirror_mode": {
    "name": "ipython",
    "version": 3
   },
   "file_extension": ".py",
   "mimetype": "text/x-python",
   "name": "python",
   "nbconvert_exporter": "python",
   "pygments_lexer": "ipython3",
   "version": "3.11.3"
  }
 },
 "nbformat": 4,
 "nbformat_minor": 2
}
